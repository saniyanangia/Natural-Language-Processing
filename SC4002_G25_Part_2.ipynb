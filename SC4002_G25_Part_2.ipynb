{
 "cells": [
  {
   "cell_type": "markdown",
   "metadata": {},
   "source": [
    "### Sentence-Level Categorization: Question Classification"
   ]
  },
  {
   "cell_type": "code",
   "execution_count": 23,
   "metadata": {},
   "outputs": [],
   "source": [
    "# Importing libraries\n",
    "import tqdm\n",
    "import time\n",
    "import random\n",
    "import numpy as np\n",
    "import pandas as pd\n",
    "import matplotlib.pyplot as plt\n",
    "\n",
    "import torch\n",
    "from torch import nn\n",
    "from torch.utils.data import TensorDataset\n",
    "from torch.utils.data import DataLoader\n",
    "from torch.nn.utils.rnn import pad_sequence"
   ]
  },
  {
   "cell_type": "code",
   "execution_count": 24,
   "metadata": {},
   "outputs": [
    {
     "data": {
      "text/plain": [
       "<torch._C.Generator at 0x24edd2b7c70>"
      ]
     },
     "execution_count": 24,
     "metadata": {},
     "output_type": "execute_result"
    }
   ],
   "source": [
    "# Set random seed for reproducibility\n",
    "seed = 42\n",
    "np.random.seed(seed)\n",
    "torch.manual_seed(seed)"
   ]
  },
  {
   "cell_type": "markdown",
   "metadata": {},
   "source": [
    "Data preprocessing"
   ]
  },
  {
   "cell_type": "code",
   "execution_count": 25,
   "metadata": {},
   "outputs": [
    {
     "name": "stdout",
     "output_type": "stream",
     "text": [
      "train shape before forming val set:  (5452, 3)\n",
      "train shape after forming val set:  (4952, 3)\n",
      "val shape:  (500, 3)\n"
     ]
    }
   ],
   "source": [
    "train = pd.read_csv('data/train.csv')\n",
    "test = pd.read_csv('data/test.csv')\n",
    "print(\"train shape before forming val set: \", train.shape)\n",
    "\n",
    "# form a development set\n",
    "val_size = 500 \n",
    "val = train.sample(n=val_size, random_state=42)\n",
    "\n",
    "# Remove these examples from the training data\n",
    "train = train.drop(val.index)\n",
    "\n",
    "# Reset the index of both train and val DataFrames\n",
    "train = train.reset_index(drop=True)\n",
    "val = val.reset_index(drop=True)\n",
    "\n",
    "print(\"train shape after forming val set: \", train.shape)\n",
    "print(\"val shape: \", val.shape)"
   ]
  },
  {
   "cell_type": "markdown",
   "metadata": {},
   "source": [
    "**Q2a)** The 5 classes we used after converting from the original label set to the new setting are:\n",
    "- 0\n",
    "- 1\n",
    "- 2\n",
    "- 3\n",
    "- 4 (OTHERS)"
   ]
  },
  {
   "cell_type": "code",
   "execution_count": 26,
   "metadata": {},
   "outputs": [
    {
     "name": "stdout",
     "output_type": "stream",
     "text": [
      "     label-coarse  label-fine  \\\n",
      "0               4          21   \n",
      "1               1           2   \n",
      "2               0           9   \n",
      "3               0          12   \n",
      "4               3           4   \n",
      "..            ...         ...   \n",
      "495             1          37   \n",
      "496             4          11   \n",
      "497             3           5   \n",
      "498             4          24   \n",
      "499             0          12   \n",
      "\n",
      "                                                  text  \n",
      "0           What city is served by Tempelhol Airport ?  \n",
      "1           What is Dudley Do-Right 's horse 's name ?  \n",
      "2            What 's nature 's purpose for tornadoes ?  \n",
      "3      What is the history of Valentine 's Day cards ?  \n",
      "4    What President became Chief Justice after his ...  \n",
      "..                                                 ...  \n",
      "495  What 's the most commonly-spoken language in B...  \n",
      "496  What is the leading pecan and peanut growing s...  \n",
      "497  Name the three races unleashed by the Celestia...  \n",
      "498          Where do people mountain climb in Nepal ?  \n",
      "499  What is the difference between classical condi...  \n",
      "\n",
      "[500 rows x 3 columns]\n"
     ]
    }
   ],
   "source": [
    "# Combine class 4 and 5 into 'OTHERS', which will be class 4\n",
    "\n",
    "train['label-coarse'] = train['label-coarse'].replace({4: 4, 5: 4})\n",
    "test['label-coarse'] = test['label-coarse'].replace({4: 4, 5: 4})\n",
    "val['label-coarse'] = val['label-coarse'].replace({4: 4, 5: 4})\n",
    "print(val)"
   ]
  },
  {
   "cell_type": "markdown",
   "metadata": {},
   "source": [
    "Word embedding"
   ]
  },
  {
   "cell_type": "code",
   "execution_count": 27,
   "metadata": {},
   "outputs": [],
   "source": [
    "import gensim.downloader"
   ]
  },
  {
   "cell_type": "code",
   "execution_count": 28,
   "metadata": {},
   "outputs": [],
   "source": [
    "# Downloading pretrained word2vec embeddings\n",
    "w2v = gensim.downloader.load('word2vec-google-news-300')"
   ]
  },
  {
   "cell_type": "code",
   "execution_count": 29,
   "metadata": {
    "scrolled": false
   },
   "outputs": [],
   "source": [
    "# Convert text data to Word2Vec embeddings\n",
    "def text_to_embeddings(text, w2v_model):\n",
    "    tokens = text.split()\n",
    "    embeddings = [torch.tensor(w2v_model[word]) if word in w2v_model else torch.zeros(300) for word in tokens]\n",
    "    return torch.stack(embeddings)\n",
    "\n",
    "# Apply Word2Vec embeddings to data\n",
    "X_train_embedded = [text_to_embeddings(text, w2v) for text in train['text']]\n",
    "y_train_embedded = torch.tensor(train['label-coarse'])\n",
    "\n",
    "X_val_embedded = [text_to_embeddings(text, w2v) for text in val['text']]\n",
    "y_val_embedded = torch.tensor(val['label-coarse'])\n",
    "\n",
    "X_test_embedded = [text_to_embeddings(text, w2v) for text in test['text']]\n",
    "y_test_embedded = torch.tensor(test['label-coarse'])\n",
    "\n",
    "# Convert the list of embedded sequences to a padded tensor\n",
    "X_train_embedded= pad_sequence(X_train_embedded, batch_first=True)\n",
    "X_val_embedded= pad_sequence(X_val_embedded, batch_first=True)\n",
    "X_test_embedded= pad_sequence(X_test_embedded, batch_first=True)"
   ]
  },
  {
   "cell_type": "markdown",
   "metadata": {},
   "source": [
    "#### Train function"
   ]
  },
  {
   "cell_type": "code",
   "execution_count": 30,
   "metadata": {},
   "outputs": [],
   "source": [
    "input_dim = w2v.vector_size\n",
    "output_dim = 5  \n",
    "\n",
    "def train_model(model, num_epochs, learning_rate, train_dataset, train_loader):\n",
    "    criterion = nn.CrossEntropyLoss()\n",
    "    optimizer = torch.optim.Adam(model.parameters(), lr=learning_rate)\n",
    "\n",
    "    # Early stopping parameters\n",
    "    best_val_accuracy = 0\n",
    "    patience = 5\n",
    "    no_improvement = 0\n",
    "\n",
    "    epoch_loss = 0\n",
    "    \n",
    "    for epoch in range(num_epochs):\n",
    "        model.train()\n",
    "        total_loss = 0\n",
    "\n",
    "        # Inside training loop\n",
    "        for batch in train_loader:\n",
    "            optimizer.zero_grad()\n",
    "            text, labels = batch\n",
    "\n",
    "            predictions = model(text)\n",
    "            loss = criterion(predictions, labels)\n",
    "            loss.backward()\n",
    "            optimizer.step()\n",
    "            total_loss += loss.item()\n",
    "        \n",
    "        epoch_loss = total_loss / len(train_loader)\n",
    "\n",
    "        # Evaluate on development set\n",
    "        model.eval()\n",
    "        with torch.no_grad():\n",
    "            val_predictions = model(X_val_embedded)\n",
    "            predicted_labels = torch.argmax(val_predictions, dim=1)\n",
    "            predicted_labels = predicted_labels.float()\n",
    "\n",
    "            correct = (predicted_labels == y_val_embedded).sum().item()\n",
    "            val_accuracy = correct / len(y_val_embedded)\n",
    "\n",
    "        # Check for early stopping\n",
    "        if val_accuracy > best_val_accuracy:\n",
    "            best_val_accuracy = val_accuracy\n",
    "            no_improvement = 0\n",
    "        else:\n",
    "            no_improvement += 1\n",
    "\n",
    "        if no_improvement >= patience:\n",
    "            total_training_epochs = epoch + 1\n",
    "            print(f\"Early stopping after {total_training_epochs} epochs\")\n",
    "            break\n",
    "\n",
    "    print(f\"Validation accuracy: {val_accuracy}\")\n",
    "    print(f\"Training loss: {epoch_loss}\\n\")\n",
    "    \n",
    "    return val_accuracy, epoch_loss"
   ]
  },
  {
   "cell_type": "code",
   "execution_count": 31,
   "metadata": {},
   "outputs": [],
   "source": [
    "# parameters\n",
    "no_hidden = 128\n",
    "num_epochs = 100"
   ]
  },
  {
   "cell_type": "markdown",
   "metadata": {},
   "source": [
    "**Q2bi)** Testing out different types of aggregation methods"
   ]
  },
  {
   "cell_type": "markdown",
   "metadata": {},
   "source": [
    "1. Averaging Over Word Representations"
   ]
  },
  {
   "cell_type": "code",
   "execution_count": 32,
   "metadata": {
    "scrolled": false
   },
   "outputs": [],
   "source": [
    "class AverageAggregation(nn.Module):\n",
    "    def __init__(self, input_dim, output_dim):\n",
    "        super(AverageAggregation, self).__init__()\n",
    "        self.lstm = nn.LSTM(input_dim, no_hidden)\n",
    "        self.linear = nn.Linear(no_hidden, output_dim)\n",
    "        self.softmax = nn.Softmax(dim=1)\n",
    "\n",
    "    def forward(self, x):\n",
    "        lstm_out, _ = self.lstm(x)\n",
    "        # Average over word representations\n",
    "        sentence_representation = torch.mean(lstm_out, dim=1)\n",
    "        # Linear layer for classification\n",
    "        output = self.linear(sentence_representation)\n",
    "        # Softmax activation for classification\n",
    "        output = self.softmax(output)\n",
    "\n",
    "        return output"
   ]
  },
  {
   "cell_type": "markdown",
   "metadata": {},
   "source": [
    "Hyperparameter tuning to find the optimal learning rate and batch size"
   ]
  },
  {
   "cell_type": "code",
   "execution_count": 33,
   "metadata": {
    "scrolled": true
   },
   "outputs": [
    {
     "name": "stdout",
     "output_type": "stream",
     "text": [
      "Learning Rate: 0.001, Batch Size: 32\n",
      "Early stopping after 57 epochs\n",
      "Validation accuracy: 0.828\n",
      "Training loss: 1.012216031551361\n",
      "\n",
      "Learning Rate: 0.001, Batch Size: 64\n",
      "Early stopping after 46 epochs\n",
      "Validation accuracy: 0.766\n",
      "Training loss: 1.116794691636012\n",
      "\n",
      "Learning Rate: 0.001, Batch Size: 128\n",
      "Early stopping after 56 epochs\n",
      "Validation accuracy: 0.724\n",
      "Training loss: 1.2031195836189466\n",
      "\n",
      "Learning Rate: 0.001, Batch Size: 256\n",
      "Early stopping after 34 epochs\n",
      "Validation accuracy: 0.586\n",
      "Training loss: 1.3743156909942627\n",
      "\n",
      "Learning Rate: 0.01, Batch Size: 32\n",
      "Early stopping after 24 epochs\n",
      "Validation accuracy: 0.858\n",
      "Training loss: 0.9427962314698004\n",
      "\n",
      "Learning Rate: 0.01, Batch Size: 64\n",
      "Early stopping after 28 epochs\n",
      "Validation accuracy: 0.852\n",
      "Training loss: 0.947713166475296\n",
      "\n",
      "Learning Rate: 0.01, Batch Size: 128\n",
      "Early stopping after 35 epochs\n",
      "Validation accuracy: 0.846\n",
      "Training loss: 0.9670389523872962\n",
      "\n",
      "Learning Rate: 0.01, Batch Size: 256\n",
      "Early stopping after 32 epochs\n",
      "Validation accuracy: 0.832\n",
      "Training loss: 0.9940176546573639\n",
      "\n",
      "Learning Rate: 0.1, Batch Size: 32\n",
      "Early stopping after 6 epochs\n",
      "Validation accuracy: 0.338\n",
      "Training loss: 1.590448970179404\n",
      "\n",
      "Learning Rate: 0.1, Batch Size: 64\n",
      "Early stopping after 6 epochs\n",
      "Validation accuracy: 0.34\n",
      "Training loss: 1.591130676941994\n",
      "\n",
      "Learning Rate: 0.1, Batch Size: 128\n",
      "Early stopping after 6 epochs\n",
      "Validation accuracy: 0.228\n",
      "Training loss: 1.6753564675649006\n",
      "\n",
      "Learning Rate: 0.1, Batch Size: 256\n",
      "Early stopping after 6 epochs\n",
      "Validation accuracy: 0.194\n",
      "Training loss: 1.677826327085495\n",
      "\n"
     ]
    }
   ],
   "source": [
    "# finding optimal hyperparameters\n",
    "avg_agreg_acc = []\n",
    "avg_agreg_loss = []\n",
    "\n",
    "for learning_rate in [0.001, 0.01, 0.1]:\n",
    "    for batch_size in [32, 64, 128, 256]:\n",
    "        # Set hyperparameters\n",
    "        learning_rate = learning_rate\n",
    "        batch_size = batch_size\n",
    "        \n",
    "        print(f'Learning Rate: {learning_rate}, Batch Size: {batch_size}')\n",
    "\n",
    "        # Create DataLoader for training data\n",
    "        train_dataset = TensorDataset(X_train_embedded, y_train_embedded)\n",
    "        train_loader = DataLoader(train_dataset, batch_size=batch_size, shuffle=True)\n",
    "        \n",
    "        aa_model = AverageAggregation(input_dim, output_dim)\n",
    "        \n",
    "        accuracy, loss = train_model(aa_model, 100, learning_rate, train_dataset, train_loader)\n",
    "        avg_agreg_acc.append(accuracy)\n",
    "        avg_agreg_loss.append(loss)"
   ]
  },
  {
   "cell_type": "code",
   "execution_count": 34,
   "metadata": {},
   "outputs": [
    {
     "data": {
      "image/png": "[encoded data removed]",
      "text/plain": [
       "<Figure size 1200x600 with 1 Axes>"
      ]
     },
     "metadata": {},
     "output_type": "display_data"
    }
   ],
   "source": [
    "lr_bs = [(0.001, 32), (0.001, 64), (0.001, 128), (0.001, 256),\n",
    "        (0.01, 32), (0.01, 64), (0.01, 128), (0.01, 256),\n",
    "        (0.1, 32), (0.1, 64), (0.1, 128), (0.1, 256)]\n",
    "\n",
    "batch_sizes = [bs for (_, bs) in lr_bs]\n",
    "learning_rates = [lr for (lr, _) in lr_bs]\n",
    "\n",
    "\n",
    "def hyperparameter_plot(accuracy, loss, title):\n",
    "    # Create a bar chart with grouped bars for accuracy and loss\n",
    "    fig, ax = plt.subplots(figsize=(12, 6))\n",
    "    width = 0.35\n",
    "    x = np.arange(len(lr_bs))\n",
    "\n",
    "    accuracies = np.array(accuracy)\n",
    "    losses = np.array(loss)\n",
    "\n",
    "    bar1 = ax.bar(x - width/2, accuracies, width, label='Validation Accuracy')\n",
    "    bar2 = ax.bar(x + width/2, losses, width, label='Training Loss')\n",
    "\n",
    "    ax.set_xticks(x)\n",
    "    ax.set_xticklabels([f\"{lr}, {bs}\" for lr, bs in lr_bs], rotation=45, ha=\"right\")\n",
    "\n",
    "    ax.set_title(title)\n",
    "    ax.set_xlabel(\"Hyperparameters (Learning Rate, Batch Size)\")\n",
    "    ax.set_ylabel(\"Values\")\n",
    "    ax.legend()\n",
    "\n",
    "    # Add labels with accuracies above the bars\n",
    "    for rect, acc in zip(bar1, accuracies):\n",
    "        height = rect.get_height()\n",
    "        ax.annotate(f'{acc:.3f}', xy=(rect.get_x() + rect.get_width() / 2, height), xytext=(0, 5), textcoords=\"offset points\", ha='center', va='bottom')\n",
    "\n",
    "    plt.tight_layout()\n",
    "    plt.show()\n",
    "\n",
    "hyperparameter_plot(avg_agreg_acc, avg_agreg_loss, \"Average Aggregation\")"
   ]
  },
  {
   "cell_type": "code",
   "execution_count": 35,
   "metadata": {},
   "outputs": [
    {
     "name": "stdout",
     "output_type": "stream",
     "text": [
      "Early stopping after 18 epochs\n",
      "Validation accuracy: 0.846\n",
      "Training loss: 0.9554366969293163\n",
      "\n"
     ]
    },
    {
     "data": {
      "text/plain": [
       "(0.846, 0.9554366969293163)"
      ]
     },
     "execution_count": 35,
     "metadata": {},
     "output_type": "execute_result"
    }
   ],
   "source": [
    "# train with optimal hyperparameters (highest accuracy, lowest loss)\n",
    "learning_rate = 0.01\n",
    "batch_size = 32\n",
    "\n",
    "aa_model = AverageAggregation(input_dim, output_dim)\n",
    "\n",
    "train_dataset = TensorDataset(X_train_embedded, y_train_embedded)\n",
    "train_loader = DataLoader(train_dataset, batch_size=batch_size, shuffle=True)\n",
    "        \n",
    "train_model(aa_model, 100, learning_rate, train_dataset, train_loader)"
   ]
  },
  {
   "cell_type": "markdown",
   "metadata": {},
   "source": [
    "2. Max Pooling"
   ]
  },
  {
   "cell_type": "code",
   "execution_count": 36,
   "metadata": {},
   "outputs": [],
   "source": [
    "class MaxPoolAggre(nn.Module):\n",
    "    def __init__(self, input_dim, output_dim):\n",
    "        super(MaxPoolAggre, self).__init__()\n",
    "        self.lstm = nn.LSTM(input_dim, no_hidden)\n",
    "        self.linear = nn.Linear(no_hidden, output_dim)\n",
    "        self.softmax = nn.Softmax(dim=1)\n",
    "\n",
    "    def forward(self, x):\n",
    "        lstm_out, _ = self.lstm(x)\n",
    "        # Max pooling over word representations\n",
    "        sentence_representation, _ = torch.max(lstm_out, dim=1)\n",
    "        # Linear layer for classification\n",
    "        output = self.linear(sentence_representation)\n",
    "        # Softmax activation for classification\n",
    "        output = self.softmax(output)\n",
    "\n",
    "        return output"
   ]
  },
  {
   "cell_type": "code",
   "execution_count": 37,
   "metadata": {
    "scrolled": true
   },
   "outputs": [
    {
     "name": "stdout",
     "output_type": "stream",
     "text": [
      "Learning Rate: 0.001, Batch Size: 32\n",
      "Early stopping after 16 epochs\n",
      "Validation accuracy: 0.858\n",
      "Training loss: 0.9761257994559503\n",
      "\n",
      "Learning Rate: 0.001, Batch Size: 64\n",
      "Early stopping after 21 epochs\n",
      "Validation accuracy: 0.872\n",
      "Training loss: 0.9770024946102729\n",
      "\n",
      "Learning Rate: 0.001, Batch Size: 128\n",
      "Early stopping after 40 epochs\n",
      "Validation accuracy: 0.872\n",
      "Training loss: 0.9631882798977387\n",
      "\n",
      "Learning Rate: 0.001, Batch Size: 256\n",
      "Early stopping after 45 epochs\n",
      "Validation accuracy: 0.866\n",
      "Training loss: 0.9817473381757736\n",
      "\n",
      "Learning Rate: 0.01, Batch Size: 32\n",
      "Early stopping after 17 epochs\n",
      "Validation accuracy: 0.856\n",
      "Training loss: 0.9421421627844534\n",
      "\n",
      "Learning Rate: 0.01, Batch Size: 64\n",
      "Early stopping after 26 epochs\n",
      "Validation accuracy: 0.866\n",
      "Training loss: 0.9377289911111196\n",
      "\n",
      "Learning Rate: 0.01, Batch Size: 128\n",
      "Early stopping after 17 epochs\n",
      "Validation accuracy: 0.88\n",
      "Training loss: 0.9438040669147785\n",
      "\n",
      "Learning Rate: 0.01, Batch Size: 256\n",
      "Early stopping after 18 epochs\n",
      "Validation accuracy: 0.862\n",
      "Training loss: 0.9484289646148681\n",
      "\n",
      "Learning Rate: 0.1, Batch Size: 32\n",
      "Early stopping after 6 epochs\n",
      "Validation accuracy: 0.228\n",
      "Training loss: 1.6753299128624701\n",
      "\n",
      "Learning Rate: 0.1, Batch Size: 64\n",
      "Early stopping after 6 epochs\n",
      "Validation accuracy: 0.34\n",
      "Training loss: 1.5904629429181416\n",
      "\n",
      "Learning Rate: 0.1, Batch Size: 128\n",
      "Early stopping after 6 epochs\n",
      "Validation accuracy: 0.34\n",
      "Training loss: 1.5896739195554683\n",
      "\n",
      "Learning Rate: 0.1, Batch Size: 256\n",
      "Early stopping after 6 epochs\n",
      "Validation accuracy: 0.218\n",
      "Training loss: 1.6943213522434235\n",
      "\n"
     ]
    }
   ],
   "source": [
    "# finding optimal hyperparameters\n",
    "max_agreg_acc = []\n",
    "max_agreg_loss = []\n",
    "\n",
    "for learning_rate in [0.001, 0.01, 0.1]:\n",
    "    for batch_size in [32, 64, 128, 256]:\n",
    "        # Set hyperparameters\n",
    "        learning_rate = learning_rate\n",
    "        batch_size = batch_size\n",
    "        \n",
    "        print(f'Learning Rate: {learning_rate}, Batch Size: {batch_size}')\n",
    "\n",
    "        # Create DataLoader for training data\n",
    "        train_dataset = TensorDataset(X_train_embedded, y_train_embedded)\n",
    "        train_loader = DataLoader(train_dataset, batch_size=batch_size, shuffle=True)\n",
    "        \n",
    "        mpa_model = MaxPoolAggre(input_dim, output_dim)\n",
    "        \n",
    "        accuracy, loss = train_model(mpa_model, 100, learning_rate, train_dataset, train_loader)\n",
    "        max_agreg_acc.append(accuracy)\n",
    "        max_agreg_loss.append(loss)"
   ]
  },
  {
   "cell_type": "code",
   "execution_count": 38,
   "metadata": {},
   "outputs": [
    {
     "data": {
      "image/png": "[encoded data removed]",
      "text/plain": [
       "<Figure size 1200x600 with 1 Axes>"
      ]
     },
     "metadata": {},
     "output_type": "display_data"
    }
   ],
   "source": [
    "hyperparameter_plot(max_agreg_acc, max_agreg_loss, \"Max Pooling\")"
   ]
  },
  {
   "cell_type": "code",
   "execution_count": 39,
   "metadata": {},
   "outputs": [
    {
     "name": "stdout",
     "output_type": "stream",
     "text": [
      "Early stopping after 20 epochs\n",
      "Validation accuracy: 0.878\n",
      "Training loss: 0.941215299643003\n",
      "\n"
     ]
    },
    {
     "data": {
      "text/plain": [
       "(0.878, 0.941215299643003)"
      ]
     },
     "execution_count": 39,
     "metadata": {},
     "output_type": "execute_result"
    }
   ],
   "source": [
    "# train with optimal hyperparameters (highest accuracy, lowest loss)\n",
    "learning_rate = 0.01\n",
    "batch_size = 128\n",
    "\n",
    "mpa_model = MaxPoolAggre(input_dim, output_dim)\n",
    "\n",
    "train_dataset = TensorDataset(X_train_embedded, y_train_embedded)\n",
    "train_loader = DataLoader(train_dataset, batch_size=batch_size, shuffle=True)\n",
    "        \n",
    "train_model(mpa_model, 100, learning_rate, train_dataset, train_loader)"
   ]
  },
  {
   "cell_type": "markdown",
   "metadata": {},
   "source": [
    "3. Taking Representation of the Last Word"
   ]
  },
  {
   "cell_type": "code",
   "execution_count": 40,
   "metadata": {},
   "outputs": [],
   "source": [
    "class LastWordAggre(nn.Module):\n",
    "    def __init__(self, input_dim, output_dim):\n",
    "        super(LastWordAggre, self).__init__()\n",
    "        self.lstm = nn.LSTM(input_dim, no_hidden)\n",
    "        self.linear = nn.Linear(no_hidden, output_dim)\n",
    "        self.softmax = nn.Softmax(dim=1)\n",
    "\n",
    "    def forward(self, x):\n",
    "        lstm_out, _ = self.lstm(x)\n",
    "        # Use the representation of the last word\n",
    "        sentence_representation = lstm_out[:, -1, :]\n",
    "        # Linear layer for classification\n",
    "        output = self.linear(sentence_representation)\n",
    "        # Softmax activation for classification\n",
    "        output = self.softmax(output)\n",
    "\n",
    "        return output"
   ]
  },
  {
   "cell_type": "code",
   "execution_count": 41,
   "metadata": {},
   "outputs": [
    {
     "name": "stdout",
     "output_type": "stream",
     "text": [
      "Learning Rate: 0.001, Batch Size: 32\n",
      "Early stopping after 7 epochs\n",
      "Validation accuracy: 0.34\n",
      "Training loss: 1.5544950377556586\n",
      "\n",
      "Learning Rate: 0.001, Batch Size: 64\n",
      "Early stopping after 6 epochs\n",
      "Validation accuracy: 0.34\n",
      "Training loss: 1.5538865816898835\n",
      "\n",
      "Learning Rate: 0.001, Batch Size: 128\n",
      "Early stopping after 6 epochs\n",
      "Validation accuracy: 0.338\n",
      "Training loss: 1.555612209515694\n",
      "\n",
      "Learning Rate: 0.001, Batch Size: 256\n",
      "Early stopping after 6 epochs\n",
      "Validation accuracy: 0.338\n",
      "Training loss: 1.556158471107483\n",
      "\n",
      "Learning Rate: 0.01, Batch Size: 32\n",
      "Early stopping after 6 epochs\n",
      "Validation accuracy: 0.34\n",
      "Training loss: 1.5551270838706723\n",
      "\n",
      "Learning Rate: 0.01, Batch Size: 64\n",
      "Early stopping after 7 epochs\n",
      "Validation accuracy: 0.34\n",
      "Training loss: 1.5547980681443825\n",
      "\n",
      "Learning Rate: 0.01, Batch Size: 128\n",
      "Early stopping after 8 epochs\n",
      "Validation accuracy: 0.34\n",
      "Training loss: 1.5547149456464326\n",
      "\n",
      "Learning Rate: 0.01, Batch Size: 256\n",
      "Early stopping after 6 epochs\n",
      "Validation accuracy: 0.34\n",
      "Training loss: 1.555909413099289\n",
      "\n",
      "Learning Rate: 0.1, Batch Size: 32\n",
      "Early stopping after 6 epochs\n",
      "Validation accuracy: 0.316\n",
      "Training loss: 1.6314455040039555\n",
      "\n",
      "Learning Rate: 0.1, Batch Size: 64\n",
      "Early stopping after 6 epochs\n",
      "Validation accuracy: 0.34\n",
      "Training loss: 1.5894613403540392\n",
      "\n",
      "Learning Rate: 0.1, Batch Size: 128\n",
      "Early stopping after 6 epochs\n",
      "Validation accuracy: 0.34\n",
      "Training loss: 1.589581896097232\n",
      "\n",
      "Learning Rate: 0.1, Batch Size: 256\n",
      "Early stopping after 6 epochs\n",
      "Validation accuracy: 0.34\n",
      "Training loss: 1.5880180895328522\n",
      "\n"
     ]
    }
   ],
   "source": [
    "# finding optimal hyperparameters\n",
    "last_word_agreg_acc = []\n",
    "last_word_agreg_loss = []\n",
    "\n",
    "for learning_rate in [0.001, 0.01, 0.1]:\n",
    "    for batch_size in [32, 64, 128, 256]:\n",
    "        # Set hyperparameters\n",
    "        learning_rate = learning_rate\n",
    "        batch_size = batch_size\n",
    "        \n",
    "        print(f'Learning Rate: {learning_rate}, Batch Size: {batch_size}')\n",
    "\n",
    "        # Create DataLoader for training data\n",
    "        train_dataset = TensorDataset(X_train_embedded, y_train_embedded)\n",
    "        train_loader = DataLoader(train_dataset, batch_size=batch_size, shuffle=True)\n",
    "        \n",
    "        lwa_model = LastWordAggre(input_dim, output_dim)\n",
    "        \n",
    "        accuracy, loss = train_model(lwa_model, 100, learning_rate, train_dataset, train_loader)\n",
    "        last_word_agreg_acc.append(accuracy)\n",
    "        last_word_agreg_loss.append(loss)"
   ]
  },
  {
   "cell_type": "code",
   "execution_count": 43,
   "metadata": {},
   "outputs": [
    {
     "name": "stdout",
     "output_type": "stream",
     "text": [
      "Early stopping after 6 epochs\n",
      "Validation accuracy: 0.338\n",
      "Training loss: 1.5553957942204597\n",
      "\n"
     ]
    },
    {
     "data": {
      "text/plain": [
       "(0.338, 1.5553957942204597)"
      ]
     },
     "execution_count": 43,
     "metadata": {},
     "output_type": "execute_result"
    }
   ],
   "source": [
    "# train with optimal hyperparameters (highest accuracy, lowest loss)\n",
    "learning_rate = 0.001\n",
    "batch_size = 64\n",
    "\n",
    "lwa_model = LastWordAggre(input_dim, output_dim)\n",
    "\n",
    "train_dataset = TensorDataset(X_train_embedded, y_train_embedded)\n",
    "train_loader = DataLoader(train_dataset, batch_size=batch_size, shuffle=True)\n",
    "        \n",
    "train_model(lwa_model, 100, learning_rate, train_dataset, train_loader)"
   ]
  },
  {
   "cell_type": "code",
   "execution_count": 21,
   "metadata": {},
   "outputs": [
    {
     "data": {
      "image/png": "[encoded data removed]",
      "text/plain": [
       "<Figure size 1200x600 with 1 Axes>"
      ]
     },
     "metadata": {},
     "output_type": "display_data"
    }
   ],
   "source": [
    "hyperparameter_plot(last_word_agreg_acc, last_word_agreg_loss, \"Taking Representation of the Last Word\")"
   ]
  },
  {
   "cell_type": "markdown",
   "metadata": {},
   "source": [
    "**Q2bii)** \n",
    "\n",
    "**Aggregation methods and their accuracy:**\n",
    "1. Averaging Over Word Representations, Accuracy: 0.846\n",
    "2. Max Pooling, Accuracy: 0.870\n",
    "3. Taking Representation of the Last Word, Accuracy: 0.340\n",
    "\n",
    "\n",
    "**Final Aggregation method adopted:**\n",
    "\n",
    "The aggregation method that is finally adopted is *max pooling* as it leads to the highest validation accuracy of 0.870. \n",
    "\n",
    "\n",
    "**Function of the max pooling aggregation method:**\n",
    "\n",
    "*sentence_representation, _ = torch.max(lstm_out, dim=1)*\n",
    "\n",
    "The LSTM layer generates an output vector for each word in the input sequence. To capture the most significant features representing the entire sentence, the torch.max function extracts the maximum value from these vectors along the time dimension (specified as dim=1)."
   ]
  },
  {
   "cell_type": "code",
   "execution_count": 9,
   "metadata": {},
   "outputs": [],
   "source": [
    "class QnsClassifier(nn.Module):\n",
    "    def __init__(self, input_dim, output_dim, no_hidden):\n",
    "        super(QnsClassifier, self).__init__()\n",
    "        self.lstm = nn.LSTM(input_dim, no_hidden)\n",
    "        self.linear = nn.Linear(no_hidden, output_dim)\n",
    "        self.softmax = nn.Softmax(dim=1)\n",
    "\n",
    "    def forward(self, x):\n",
    "        lstm_out, _ = self.lstm(x)\n",
    "        # Max pooling over word representations\n",
    "        sentence_representation, _ = torch.max(lstm_out, dim=1)\n",
    "        # print(\"Shape of final vector representation of each word fed to softmax classifier: \",sentence_representation.shape)\n",
    "        # Linear layer for classification\n",
    "        output = self.linear(sentence_representation)\n",
    "        # Softmax activation for classification\n",
    "        output = self.softmax(output)\n",
    "\n",
    "        return output"
   ]
  },
  {
   "cell_type": "code",
   "execution_count": 10,
   "metadata": {},
   "outputs": [
    {
     "name": "stdout",
     "output_type": "stream",
     "text": [
      "Requirement already satisfied: optuna in c:\\users\\jasmi\\anaconda3\\lib\\site-packages (3.4.0)\n",
      "Requirement already satisfied: alembic>=1.5.0 in c:\\users\\jasmi\\anaconda3\\lib\\site-packages (from optuna) (1.12.1)\n",
      "Requirement already satisfied: colorlog in c:\\users\\jasmi\\anaconda3\\lib\\site-packages (from optuna) (6.7.0)\n",
      "Requirement already satisfied: numpy in c:\\users\\jasmi\\anaconda3\\lib\\site-packages (from optuna) (1.24.3)\n",
      "Requirement already satisfied: packaging>=20.0 in c:\\users\\jasmi\\anaconda3\\lib\\site-packages (from optuna) (23.1)\n",
      "Requirement already satisfied: sqlalchemy>=1.3.0 in c:\\users\\jasmi\\anaconda3\\lib\\site-packages (from optuna) (2.0.21)\n",
      "Requirement already satisfied: tqdm in c:\\users\\jasmi\\anaconda3\\lib\\site-packages (from optuna) (4.65.0)\n",
      "Requirement already satisfied: PyYAML in c:\\users\\jasmi\\anaconda3\\lib\\site-packages (from optuna) (6.0.1)\n",
      "Requirement already satisfied: Mako in c:\\users\\jasmi\\anaconda3\\lib\\site-packages (from alembic>=1.5.0->optuna) (1.2.4)\n",
      "Requirement already satisfied: typing-extensions>=4 in c:\\users\\jasmi\\anaconda3\\lib\\site-packages (from alembic>=1.5.0->optuna) (4.7.1)\n",
      "Requirement already satisfied: greenlet!=0.4.17 in c:\\users\\jasmi\\anaconda3\\lib\\site-packages (from sqlalchemy>=1.3.0->optuna) (2.0.1)\n",
      "Requirement already satisfied: colorama in c:\\users\\jasmi\\anaconda3\\lib\\site-packages (from colorlog->optuna) (0.4.6)\n",
      "Requirement already satisfied: MarkupSafe>=0.9.2 in c:\\users\\jasmi\\anaconda3\\lib\\site-packages (from Mako->alembic>=1.5.0->optuna) (2.1.1)\n"
     ]
    }
   ],
   "source": [
    "!pip install optuna"
   ]
  },
  {
   "cell_type": "code",
   "execution_count": 12,
   "metadata": {
    "scrolled": false
   },
   "outputs": [
    {
     "name": "stderr",
     "output_type": "stream",
     "text": [
      "[I 2023-11-03 14:55:33,847] A new study created in memory with name: no-name-e3409d03-da04-4731-88f3-674bb93b6785\n",
      "[I 2023-11-03 15:00:42,280] Trial 0 finished with value: 1.1901525486083258 and parameters: {'no_hidden': 159, 'learning_rate': 0.00010560270411531317, 'batch_size': 246}. Best is trial 0 with value: 1.1901525486083258.\n"
     ]
    },
    {
     "name": "stdout",
     "output_type": "stream",
     "text": [
      "Early stopping after 68 epochs\n",
      "Validation accuracy: 0.762\n",
      "Training loss: 1.1901525486083258\n",
      "\n"
     ]
    },
    {
     "name": "stderr",
     "output_type": "stream",
     "text": [
      "[I 2023-11-03 15:01:07,061] Trial 1 finished with value: 0.9530293229553435 and parameters: {'no_hidden': 44, 'learning_rate': 0.05005603446110368, 'batch_size': 140}. Best is trial 1 with value: 0.9530293229553435.\n"
     ]
    },
    {
     "name": "stdout",
     "output_type": "stream",
     "text": [
      "Early stopping after 17 epochs\n",
      "Validation accuracy: 0.856\n",
      "Training loss: 0.9530293229553435\n",
      "\n"
     ]
    },
    {
     "name": "stderr",
     "output_type": "stream",
     "text": [
      "[I 2023-11-03 15:03:46,265] Trial 2 finished with value: 1.1588554514778986 and parameters: {'no_hidden': 94, 'learning_rate': 0.00014285568099603067, 'batch_size': 186}. Best is trial 1 with value: 0.9530293229553435.\n"
     ]
    },
    {
     "name": "stdout",
     "output_type": "stream",
     "text": [
      "Early stopping after 60 epochs\n",
      "Validation accuracy: 0.776\n",
      "Training loss: 1.1588554514778986\n",
      "\n"
     ]
    },
    {
     "name": "stderr",
     "output_type": "stream",
     "text": [
      "[I 2023-11-03 15:08:12,716] Trial 3 finished with value: 1.0406562398586954 and parameters: {'no_hidden': 182, 'learning_rate': 0.0001778508373179377, 'batch_size': 89}. Best is trial 1 with value: 0.9530293229553435.\n"
     ]
    },
    {
     "name": "stdout",
     "output_type": "stream",
     "text": [
      "Early stopping after 52 epochs\n",
      "Validation accuracy: 0.832\n",
      "Training loss: 1.0406562398586954\n",
      "\n"
     ]
    },
    {
     "name": "stderr",
     "output_type": "stream",
     "text": [
      "[I 2023-11-03 15:13:04,412] Trial 4 finished with value: 1.1006257840105005 and parameters: {'no_hidden': 253, 'learning_rate': 0.00011139569309223305, 'batch_size': 67}. Best is trial 1 with value: 0.9530293229553435.\n"
     ]
    },
    {
     "name": "stdout",
     "output_type": "stream",
     "text": [
      "Early stopping after 35 epochs\n",
      "Validation accuracy: 0.796\n",
      "Training loss: 1.1006257840105005\n",
      "\n"
     ]
    },
    {
     "name": "stderr",
     "output_type": "stream",
     "text": [
      "[I 2023-11-03 15:13:45,668] Trial 5 finished with value: 1.5448125749826431 and parameters: {'no_hidden': 172, 'learning_rate': 5.828084502906078e-05, 'batch_size': 209}. Best is trial 1 with value: 0.9530293229553435.\n"
     ]
    },
    {
     "name": "stdout",
     "output_type": "stream",
     "text": [
      "Early stopping after 8 epochs\n",
      "Validation accuracy: 0.34\n",
      "Training loss: 1.5448125749826431\n",
      "\n"
     ]
    },
    {
     "name": "stderr",
     "output_type": "stream",
     "text": [
      "[I 2023-11-03 15:15:21,362] Trial 6 finished with value: 0.9803636997938157 and parameters: {'no_hidden': 199, 'learning_rate': 0.003163590313476959, 'batch_size': 249}. Best is trial 1 with value: 0.9530293229553435.\n"
     ]
    },
    {
     "name": "stdout",
     "output_type": "stream",
     "text": [
      "Early stopping after 17 epochs\n",
      "Validation accuracy: 0.856\n",
      "Training loss: 0.9803636997938157\n",
      "\n"
     ]
    },
    {
     "name": "stderr",
     "output_type": "stream",
     "text": [
      "[I 2023-11-03 15:17:00,952] Trial 7 finished with value: 0.9437588777458459 and parameters: {'no_hidden': 220, 'learning_rate': 0.014265134889761728, 'batch_size': 87}. Best is trial 7 with value: 0.9437588777458459.\n"
     ]
    },
    {
     "name": "stdout",
     "output_type": "stream",
     "text": [
      "Early stopping after 15 epochs\n",
      "Validation accuracy: 0.866\n",
      "Training loss: 0.9437588777458459\n",
      "\n"
     ]
    },
    {
     "name": "stderr",
     "output_type": "stream",
     "text": [
      "[I 2023-11-03 15:19:21,765] Trial 8 finished with value: 1.1105232624446644 and parameters: {'no_hidden': 107, 'learning_rate': 0.00024092820850544168, 'batch_size': 148}. Best is trial 7 with value: 0.9437588777458459.\n"
     ]
    },
    {
     "name": "stdout",
     "output_type": "stream",
     "text": [
      "Early stopping after 44 epochs\n",
      "Validation accuracy: 0.81\n",
      "Training loss: 1.1105232624446644\n",
      "\n"
     ]
    },
    {
     "name": "stderr",
     "output_type": "stream",
     "text": [
      "[I 2023-11-03 15:19:46,096] Trial 9 finished with value: 1.5744757088454995 and parameters: {'no_hidden': 70, 'learning_rate': 1.5540567442759363e-05, 'batch_size': 67}. Best is trial 7 with value: 0.9437588777458459.\n"
     ]
    },
    {
     "name": "stdout",
     "output_type": "stream",
     "text": [
      "Early stopping after 10 epochs\n",
      "Validation accuracy: 0.34\n",
      "Training loss: 1.5744757088454995\n",
      "\n"
     ]
    },
    {
     "name": "stderr",
     "output_type": "stream",
     "text": [
      "[I 2023-11-03 15:22:52,618] Trial 10 finished with value: 0.9248236521597831 and parameters: {'no_hidden': 252, 'learning_rate': 0.007211412105088788, 'batch_size': 32}. Best is trial 10 with value: 0.9248236521597831.\n"
     ]
    },
    {
     "name": "stdout",
     "output_type": "stream",
     "text": [
      "Early stopping after 20 epochs\n",
      "Validation accuracy: 0.862\n",
      "Training loss: 0.9248236521597831\n",
      "\n"
     ]
    },
    {
     "name": "stderr",
     "output_type": "stream",
     "text": [
      "[I 2023-11-03 15:24:45,171] Trial 11 finished with value: 0.941198483661369 and parameters: {'no_hidden': 248, 'learning_rate': 0.008085634203482694, 'batch_size': 46}. Best is trial 10 with value: 0.9248236521597831.\n"
     ]
    },
    {
     "name": "stdout",
     "output_type": "stream",
     "text": [
      "Early stopping after 13 epochs\n",
      "Validation accuracy: 0.888\n",
      "Training loss: 0.941198483661369\n",
      "\n"
     ]
    },
    {
     "name": "stderr",
     "output_type": "stream",
     "text": [
      "[I 2023-11-03 15:26:48,768] Trial 12 finished with value: 0.9528280555746937 and parameters: {'no_hidden': 256, 'learning_rate': 0.002899857893183685, 'batch_size': 38}. Best is trial 10 with value: 0.9248236521597831.\n"
     ]
    },
    {
     "name": "stdout",
     "output_type": "stream",
     "text": [
      "Early stopping after 13 epochs\n",
      "Validation accuracy: 0.868\n",
      "Training loss: 0.9528280555746937\n",
      "\n"
     ]
    },
    {
     "name": "stderr",
     "output_type": "stream",
     "text": [
      "[I 2023-11-03 15:29:44,765] Trial 13 finished with value: 0.9242933746307127 and parameters: {'no_hidden': 221, 'learning_rate': 0.011812627647641677, 'batch_size': 32}. Best is trial 13 with value: 0.9242933746307127.\n"
     ]
    },
    {
     "name": "stdout",
     "output_type": "stream",
     "text": [
      "Early stopping after 21 epochs\n",
      "Validation accuracy: 0.866\n",
      "Training loss: 0.9242933746307127\n",
      "\n"
     ]
    },
    {
     "name": "stderr",
     "output_type": "stream",
     "text": [
      "[I 2023-11-03 15:35:13,925] Trial 14 finished with value: 1.6755064493272362 and parameters: {'no_hidden': 217, 'learning_rate': 0.07710014467247019, 'batch_size': 121}. Best is trial 13 with value: 0.9242933746307127.\n"
     ]
    },
    {
     "name": "stdout",
     "output_type": "stream",
     "text": [
      "Early stopping after 6 epochs\n",
      "Validation accuracy: 0.228\n",
      "Training loss: 1.6755064493272362\n",
      "\n"
     ]
    },
    {
     "name": "stderr",
     "output_type": "stream",
     "text": [
      "[I 2023-11-03 15:36:51,390] Trial 15 finished with value: 0.9985355419271132 and parameters: {'no_hidden': 133, 'learning_rate': 0.0010400649106497078, 'batch_size': 99}. Best is trial 13 with value: 0.9242933746307127.\n"
     ]
    },
    {
     "name": "stdout",
     "output_type": "stream",
     "text": [
      "Early stopping after 26 epochs\n",
      "Validation accuracy: 0.856\n",
      "Training loss: 0.9985355419271132\n",
      "\n"
     ]
    },
    {
     "name": "stderr",
     "output_type": "stream",
     "text": [
      "[I 2023-11-03 15:38:58,076] Trial 16 finished with value: 0.9657807084821886 and parameters: {'no_hidden': 221, 'learning_rate': 0.018563034746502893, 'batch_size': 32}. Best is trial 13 with value: 0.9242933746307127.\n"
     ]
    },
    {
     "name": "stdout",
     "output_type": "stream",
     "text": [
      "Early stopping after 17 epochs\n",
      "Validation accuracy: 0.832\n",
      "Training loss: 0.9657807084821886\n",
      "\n"
     ]
    },
    {
     "name": "stderr",
     "output_type": "stream",
     "text": [
      "[I 2023-11-03 15:39:52,168] Trial 17 finished with value: 0.9620837455704099 and parameters: {'no_hidden': 137, 'learning_rate': 0.040199769272320766, 'batch_size': 59}. Best is trial 13 with value: 0.9242933746307127.\n"
     ]
    },
    {
     "name": "stdout",
     "output_type": "stream",
     "text": [
      "Early stopping after 13 epochs\n",
      "Validation accuracy: 0.854\n",
      "Training loss: 0.9620837455704099\n",
      "\n"
     ]
    },
    {
     "name": "stderr",
     "output_type": "stream",
     "text": [
      "[I 2023-11-03 15:41:41,884] Trial 18 finished with value: 0.9416187784888528 and parameters: {'no_hidden': 196, 'learning_rate': 0.005435379102870937, 'batch_size': 114}. Best is trial 13 with value: 0.9242933746307127.\n"
     ]
    },
    {
     "name": "stdout",
     "output_type": "stream",
     "text": [
      "Early stopping after 20 epochs\n",
      "Validation accuracy: 0.88\n",
      "Training loss: 0.9416187784888528\n",
      "\n"
     ]
    },
    {
     "name": "stderr",
     "output_type": "stream",
     "text": [
      "[I 2023-11-03 15:45:17,251] Trial 19 finished with value: 0.9733335927680686 and parameters: {'no_hidden': 232, 'learning_rate': 0.0012442170120967697, 'batch_size': 190}. Best is trial 13 with value: 0.9242933746307127.\n"
     ]
    },
    {
     "name": "stdout",
     "output_type": "stream",
     "text": [
      "Early stopping after 33 epochs\n",
      "Validation accuracy: 0.868\n",
      "Training loss: 0.9733335927680686\n",
      "\n"
     ]
    },
    {
     "name": "stderr",
     "output_type": "stream",
     "text": [
      "[I 2023-11-03 15:47:16,851] Trial 20 finished with value: 1.2038200310298375 and parameters: {'no_hidden': 200, 'learning_rate': 0.030388083419358877, 'batch_size': 71}. Best is trial 13 with value: 0.9242933746307127.\n"
     ]
    },
    {
     "name": "stdout",
     "output_type": "stream",
     "text": [
      "Early stopping after 20 epochs\n",
      "Validation accuracy: 0.672\n",
      "Training loss: 1.2038200310298375\n",
      "\n"
     ]
    },
    {
     "name": "stderr",
     "output_type": "stream",
     "text": [
      "[I 2023-11-03 15:49:21,595] Trial 21 finished with value: 0.9406699110976363 and parameters: {'no_hidden': 239, 'learning_rate': 0.009232675838504055, 'batch_size': 44}. Best is trial 13 with value: 0.9242933746307127.\n"
     ]
    },
    {
     "name": "stdout",
     "output_type": "stream",
     "text": [
      "Early stopping after 16 epochs\n",
      "Validation accuracy: 0.86\n",
      "Training loss: 0.9406699110976363\n",
      "\n"
     ]
    },
    {
     "name": "stderr",
     "output_type": "stream",
     "text": [
      "[I 2023-11-03 15:50:45,053] Trial 22 finished with value: 0.9462475742063214 and parameters: {'no_hidden': 236, 'learning_rate': 0.012438448260159335, 'batch_size': 32}. Best is trial 13 with value: 0.9242933746307127.\n"
     ]
    },
    {
     "name": "stdout",
     "output_type": "stream",
     "text": [
      "Early stopping after 11 epochs\n",
      "Validation accuracy: 0.862\n",
      "Training loss: 0.9462475742063214\n",
      "\n"
     ]
    },
    {
     "name": "stderr",
     "output_type": "stream",
     "text": [
      "[I 2023-11-03 15:52:14,805] Trial 23 finished with value: 0.9505786178063373 and parameters: {'no_hidden': 235, 'learning_rate': 0.006437326588409217, 'batch_size': 51}. Best is trial 13 with value: 0.9242933746307127.\n"
     ]
    },
    {
     "name": "stdout",
     "output_type": "stream",
     "text": [
      "Early stopping after 12 epochs\n",
      "Validation accuracy: 0.864\n",
      "Training loss: 0.9505786178063373\n",
      "\n"
     ]
    },
    {
     "name": "stderr",
     "output_type": "stream",
     "text": [
      "[I 2023-11-03 15:57:25,770] Trial 24 finished with value: 1.588758546859026 and parameters: {'no_hidden': 214, 'learning_rate': 0.09973455543365448, 'batch_size': 78}. Best is trial 13 with value: 0.9242933746307127.\n"
     ]
    },
    {
     "name": "stdout",
     "output_type": "stream",
     "text": [
      "Early stopping after 6 epochs\n",
      "Validation accuracy: 0.34\n",
      "Training loss: 1.588758546859026\n",
      "\n"
     ]
    },
    {
     "name": "stderr",
     "output_type": "stream",
     "text": [
      "[I 2023-11-03 15:58:47,430] Trial 25 finished with value: 0.948325936283384 and parameters: {'no_hidden': 178, 'learning_rate': 0.022107477784543576, 'batch_size': 51}. Best is trial 13 with value: 0.9242933746307127.\n"
     ]
    },
    {
     "name": "stdout",
     "output_type": "stream",
     "text": [
      "Early stopping after 16 epochs\n",
      "Validation accuracy: 0.848\n",
      "Training loss: 0.948325936283384\n",
      "\n"
     ]
    },
    {
     "name": "stderr",
     "output_type": "stream",
     "text": [
      "[I 2023-11-03 16:01:17,362] Trial 26 finished with value: 0.9445108974233587 and parameters: {'no_hidden': 242, 'learning_rate': 0.0025735937207681516, 'batch_size': 106}. Best is trial 13 with value: 0.9242933746307127.\n"
     ]
    },
    {
     "name": "stdout",
     "output_type": "stream",
     "text": [
      "Early stopping after 22 epochs\n",
      "Validation accuracy: 0.866\n",
      "Training loss: 0.9445108974233587\n",
      "\n"
     ]
    },
    {
     "name": "stderr",
     "output_type": "stream",
     "text": [
      "[I 2023-11-03 16:02:10,844] Trial 27 finished with value: 0.9532647497124143 and parameters: {'no_hidden': 203, 'learning_rate': 0.010571958831686776, 'batch_size': 138}. Best is trial 13 with value: 0.9242933746307127.\n"
     ]
    },
    {
     "name": "stdout",
     "output_type": "stream",
     "text": [
      "Early stopping after 10 epochs\n",
      "Validation accuracy: 0.864\n",
      "Training loss: 0.9532647497124143\n",
      "\n"
     ]
    },
    {
     "name": "stderr",
     "output_type": "stream",
     "text": [
      "[I 2023-11-03 16:03:21,889] Trial 28 finished with value: 0.941018453959761 and parameters: {'no_hidden': 159, 'learning_rate': 0.02608111928312375, 'batch_size': 57}. Best is trial 13 with value: 0.9242933746307127.\n"
     ]
    },
    {
     "name": "stdout",
     "output_type": "stream",
     "text": [
      "Early stopping after 16 epochs\n",
      "Validation accuracy: 0.882\n",
      "Training loss: 0.941018453959761\n",
      "\n"
     ]
    },
    {
     "name": "stderr",
     "output_type": "stream",
     "text": [
      "[I 2023-11-03 16:04:52,920] Trial 29 finished with value: 0.9450944142956887 and parameters: {'no_hidden': 154, 'learning_rate': 0.004538356458269733, 'batch_size': 162}. Best is trial 13 with value: 0.9242933746307127.\n"
     ]
    },
    {
     "name": "stdout",
     "output_type": "stream",
     "text": [
      "Early stopping after 23 epochs\n",
      "Validation accuracy: 0.878\n",
      "Training loss: 0.9450944142956887\n",
      "\n"
     ]
    },
    {
     "name": "stderr",
     "output_type": "stream",
     "text": [
      "[I 2023-11-03 16:06:20,574] Trial 30 finished with value: 0.9539690069530321 and parameters: {'no_hidden': 233, 'learning_rate': 0.009764440143064506, 'batch_size': 223}. Best is trial 13 with value: 0.9242933746307127.\n"
     ]
    },
    {
     "name": "stdout",
     "output_type": "stream",
     "text": [
      "Early stopping after 14 epochs\n",
      "Validation accuracy: 0.866\n",
      "Training loss: 0.9539690069530321\n",
      "\n"
     ]
    },
    {
     "name": "stderr",
     "output_type": "stream",
     "text": [
      "[I 2023-11-03 16:07:57,941] Trial 31 finished with value: 1.185629035912308 and parameters: {'no_hidden': 160, 'learning_rate': 0.02807900578632475, 'batch_size': 49}. Best is trial 13 with value: 0.9242933746307127.\n"
     ]
    },
    {
     "name": "stdout",
     "output_type": "stream",
     "text": [
      "Early stopping after 14 epochs\n",
      "Validation accuracy: 0.706\n",
      "Training loss: 1.185629035912308\n",
      "\n"
     ]
    },
    {
     "name": "stderr",
     "output_type": "stream",
     "text": [
      "[I 2023-11-03 16:08:42,266] Trial 32 finished with value: 0.9680930608656348 and parameters: {'no_hidden': 108, 'learning_rate': 0.049576105582185746, 'batch_size': 61}. Best is trial 13 with value: 0.9242933746307127.\n"
     ]
    },
    {
     "name": "stdout",
     "output_type": "stream",
     "text": [
      "Early stopping after 15 epochs\n",
      "Validation accuracy: 0.862\n",
      "Training loss: 0.9680930608656348\n",
      "\n"
     ]
    },
    {
     "name": "stderr",
     "output_type": "stream",
     "text": [
      "[I 2023-11-03 16:09:02,539] Trial 33 finished with value: 0.96493810607541 and parameters: {'no_hidden': 33, 'learning_rate': 0.019498250996088647, 'batch_size': 32}. Best is trial 13 with value: 0.9242933746307127.\n"
     ]
    },
    {
     "name": "stdout",
     "output_type": "stream",
     "text": [
      "Early stopping after 13 epochs\n",
      "Validation accuracy: 0.848\n",
      "Training loss: 0.96493810607541\n",
      "\n"
     ]
    },
    {
     "name": "stderr",
     "output_type": "stream",
     "text": [
      "[I 2023-11-03 16:09:43,241] Trial 34 finished with value: 0.9493197466506332 and parameters: {'no_hidden': 125, 'learning_rate': 0.03599132601886936, 'batch_size': 82}. Best is trial 13 with value: 0.9242933746307127.\n"
     ]
    },
    {
     "name": "stdout",
     "output_type": "stream",
     "text": [
      "Early stopping after 12 epochs\n",
      "Validation accuracy: 0.874\n",
      "Training loss: 0.9493197466506332\n",
      "\n"
     ]
    },
    {
     "name": "stderr",
     "output_type": "stream",
     "text": [
      "[I 2023-11-03 16:10:36,437] Trial 35 finished with value: 0.9651583943281088 and parameters: {'no_hidden': 189, 'learning_rate': 0.012657003077821501, 'batch_size': 45}. Best is trial 13 with value: 0.9242933746307127.\n"
     ]
    },
    {
     "name": "stdout",
     "output_type": "stream",
     "text": [
      "Early stopping after 10 epochs\n",
      "Validation accuracy: 0.874\n",
      "Training loss: 0.9651583943281088\n",
      "\n"
     ]
    },
    {
     "name": "stderr",
     "output_type": "stream",
     "text": [
      "[I 2023-11-03 16:11:04,130] Trial 36 finished with value: 0.9611214454527255 and parameters: {'no_hidden': 77, 'learning_rate': 0.056183788159560925, 'batch_size': 92}. Best is trial 13 with value: 0.9242933746307127.\n"
     ]
    },
    {
     "name": "stdout",
     "output_type": "stream",
     "text": [
      "Early stopping after 12 epochs\n",
      "Validation accuracy: 0.844\n",
      "Training loss: 0.9611214454527255\n",
      "\n"
     ]
    },
    {
     "name": "stderr",
     "output_type": "stream",
     "text": [
      "[I 2023-11-03 16:12:11,626] Trial 37 finished with value: 0.9426059902432453 and parameters: {'no_hidden': 164, 'learning_rate': 0.005859868569435666, 'batch_size': 60}. Best is trial 13 with value: 0.9242933746307127.\n"
     ]
    },
    {
     "name": "stdout",
     "output_type": "stream",
     "text": [
      "Early stopping after 15 epochs\n",
      "Validation accuracy: 0.87\n",
      "Training loss: 0.9426059902432453\n",
      "\n"
     ]
    },
    {
     "name": "stderr",
     "output_type": "stream",
     "text": [
      "[I 2023-11-03 16:13:52,594] Trial 38 finished with value: 1.0244569627206717 and parameters: {'no_hidden': 208, 'learning_rate': 0.022097214018357837, 'batch_size': 75}. Best is trial 13 with value: 0.9242933746307127.\n"
     ]
    },
    {
     "name": "stdout",
     "output_type": "stream",
     "text": [
      "Early stopping after 14 epochs\n",
      "Validation accuracy: 0.806\n",
      "Training loss: 1.0244569627206717\n",
      "\n"
     ]
    },
    {
     "name": "stderr",
     "output_type": "stream",
     "text": [
      "[I 2023-11-03 16:17:19,686] Trial 39 finished with value: 0.9402580805893602 and parameters: {'no_hidden': 253, 'learning_rate': 0.0018885852571691385, 'batch_size': 43}. Best is trial 13 with value: 0.9242933746307127.\n"
     ]
    },
    {
     "name": "stdout",
     "output_type": "stream",
     "text": [
      "Early stopping after 26 epochs\n",
      "Validation accuracy: 0.884\n",
      "Training loss: 0.9402580805893602\n",
      "\n"
     ]
    },
    {
     "name": "stderr",
     "output_type": "stream",
     "text": [
      "[I 2023-11-03 16:20:30,025] Trial 40 finished with value: 0.9449331765776282 and parameters: {'no_hidden': 256, 'learning_rate': 0.002178613657538202, 'batch_size': 45}. Best is trial 13 with value: 0.9242933746307127.\n"
     ]
    },
    {
     "name": "stdout",
     "output_type": "stream",
     "text": [
      "Early stopping after 24 epochs\n",
      "Validation accuracy: 0.866\n",
      "Training loss: 0.9449331765776282\n",
      "\n"
     ]
    },
    {
     "name": "stderr",
     "output_type": "stream",
     "text": [
      "[I 2023-11-03 16:22:46,900] Trial 41 finished with value: 0.9340339522252138 and parameters: {'no_hidden': 224, 'learning_rate': 0.007977885799341592, 'batch_size': 57}. Best is trial 13 with value: 0.9242933746307127.\n"
     ]
    },
    {
     "name": "stdout",
     "output_type": "stream",
     "text": [
      "Early stopping after 21 epochs\n",
      "Validation accuracy: 0.874\n",
      "Training loss: 0.9340339522252138\n",
      "\n"
     ]
    },
    {
     "name": "stderr",
     "output_type": "stream",
     "text": [
      "[I 2023-11-03 16:24:59,775] Trial 42 finished with value: 0.9372032442979054 and parameters: {'no_hidden': 224, 'learning_rate': 0.00434735863649756, 'batch_size': 44}. Best is trial 13 with value: 0.9242933746307127.\n"
     ]
    },
    {
     "name": "stdout",
     "output_type": "stream",
     "text": [
      "Early stopping after 20 epochs\n",
      "Validation accuracy: 0.876\n",
      "Training loss: 0.9372032442979054\n",
      "\n"
     ]
    },
    {
     "name": "stderr",
     "output_type": "stream",
     "text": [
      "[I 2023-11-03 16:26:45,412] Trial 43 finished with value: 0.9445740327443162 and parameters: {'no_hidden': 229, 'learning_rate': 0.0038889817827623377, 'batch_size': 68}. Best is trial 13 with value: 0.9242933746307127.\n"
     ]
    },
    {
     "name": "stdout",
     "output_type": "stream",
     "text": [
      "Early stopping after 16 epochs\n",
      "Validation accuracy: 0.878\n",
      "Training loss: 0.9445740327443162\n",
      "\n"
     ]
    },
    {
     "name": "stderr",
     "output_type": "stream",
     "text": [
      "[I 2023-11-03 16:29:04,348] Trial 44 finished with value: 0.9511994692205473 and parameters: {'no_hidden': 247, 'learning_rate': 0.0016910242751221047, 'batch_size': 38}. Best is trial 13 with value: 0.9242933746307127.\n"
     ]
    },
    {
     "name": "stdout",
     "output_type": "stream",
     "text": [
      "Early stopping after 18 epochs\n",
      "Validation accuracy: 0.864\n",
      "Training loss: 0.9511994692205473\n",
      "\n"
     ]
    },
    {
     "name": "stderr",
     "output_type": "stream",
     "text": [
      "[I 2023-11-03 16:30:40,235] Trial 45 finished with value: 0.94461952836326 and parameters: {'no_hidden': 220, 'learning_rate': 0.004058173730647226, 'batch_size': 56}. Best is trial 13 with value: 0.9242933746307127.\n"
     ]
    },
    {
     "name": "stdout",
     "output_type": "stream",
     "text": [
      "Early stopping after 15 epochs\n",
      "Validation accuracy: 0.874\n",
      "Training loss: 0.94461952836326\n",
      "\n"
     ]
    },
    {
     "name": "stderr",
     "output_type": "stream",
     "text": [
      "[I 2023-11-03 16:33:06,214] Trial 46 finished with value: 0.9396017465675086 and parameters: {'no_hidden': 225, 'learning_rate': 0.006999602493992674, 'batch_size': 88}. Best is trial 13 with value: 0.9242933746307127.\n"
     ]
    },
    {
     "name": "stdout",
     "output_type": "stream",
     "text": [
      "Early stopping after 23 epochs\n",
      "Validation accuracy: 0.874\n",
      "Training loss: 0.9396017465675086\n",
      "\n"
     ]
    },
    {
     "name": "stderr",
     "output_type": "stream",
     "text": [
      "[I 2023-11-03 16:34:21,773] Trial 47 finished with value: 0.9488945352403741 and parameters: {'no_hidden': 189, 'learning_rate': 0.007327986247965991, 'batch_size': 88}. Best is trial 13 with value: 0.9242933746307127.\n"
     ]
    },
    {
     "name": "stdout",
     "output_type": "stream",
     "text": [
      "Early stopping after 15 epochs\n",
      "Validation accuracy: 0.862\n",
      "Training loss: 0.9488945352403741\n",
      "\n"
     ]
    },
    {
     "name": "stderr",
     "output_type": "stream",
     "text": [
      "[I 2023-11-03 16:36:05,570] Trial 48 finished with value: 0.9476096034049988 and parameters: {'no_hidden': 225, 'learning_rate': 0.0034506346867813156, 'batch_size': 67}. Best is trial 13 with value: 0.9242933746307127.\n"
     ]
    },
    {
     "name": "stdout",
     "output_type": "stream",
     "text": [
      "Early stopping after 16 epochs\n",
      "Validation accuracy: 0.872\n",
      "Training loss: 0.9476096034049988\n",
      "\n"
     ]
    },
    {
     "name": "stderr",
     "output_type": "stream",
     "text": [
      "[I 2023-11-03 16:40:25,151] Trial 49 finished with value: 0.9762470963838938 and parameters: {'no_hidden': 245, 'learning_rate': 0.000692804333848117, 'batch_size': 134}. Best is trial 13 with value: 0.9242933746307127.\n"
     ]
    },
    {
     "name": "stdout",
     "output_type": "stream",
     "text": [
      "Early stopping after 38 epochs\n",
      "Validation accuracy: 0.862\n",
      "Training loss: 0.9762470963838938\n",
      "\n"
     ]
    },
    {
     "data": {
      "text/plain": [
       "{'no_hidden': 221, 'learning_rate': 0.011812627647641677, 'batch_size': 32}"
      ]
     },
     "execution_count": 12,
     "metadata": {},
     "output_type": "execute_result"
    }
   ],
   "source": [
    "import optuna\n",
    "\n",
    "def objective(trial):\n",
    "    \n",
    "    no_hidden = trial.suggest_int('no_hidden', 32, 256)\n",
    "    learning_rate = trial.suggest_float('learning_rate', 1e-5, 1e-1, log=True)\n",
    "    batch_size = trial.suggest_int('batch_size', 32, 256)\n",
    "\n",
    "    model = QnsClassifier(input_dim, output_dim, no_hidden)\n",
    "    \n",
    "    criterion = nn.CrossEntropyLoss()\n",
    "    optimizer = torch.optim.Adam(model.parameters(), lr=learning_rate)\n",
    "    \n",
    "    train_dataset = TensorDataset(X_train_embedded, y_train_embedded)\n",
    "    train_loader = DataLoader(train_dataset, batch_size=batch_size, shuffle=True)\n",
    "    \n",
    "    accuracy, loss = train_model(model, 100, learning_rate, train_dataset, train_loader)\n",
    "\n",
    "    return loss\n",
    "\n",
    "study = optuna.create_study(direction='minimize')\n",
    "study.optimize(objective, n_trials=50)\n",
    "study.best_params"
   ]
  },
  {
   "cell_type": "markdown",
   "metadata": {},
   "source": [
    "**Q2c)** Parameters that are updated and their sizes"
   ]
  },
  {
   "cell_type": "code",
   "execution_count": 13,
   "metadata": {},
   "outputs": [],
   "source": [
    "# hyperparameters\n",
    "input_dim = w2v.vector_size\n",
    "output_dim = 5  \n",
    "no_hidden = 221\n",
    "learning_rate = 0.011812627647641677\n",
    "batch_size = 32\n",
    "num_epochs = 100"
   ]
  },
  {
   "cell_type": "code",
   "execution_count": 27,
   "metadata": {},
   "outputs": [
    {
     "name": "stdout",
     "output_type": "stream",
     "text": [
      "lstm.weight_ih_l0 torch.Size([884, 300])\n",
      "lstm.weight_hh_l0 torch.Size([884, 221])\n",
      "lstm.bias_ih_l0 torch.Size([884])\n",
      "lstm.bias_hh_l0 torch.Size([884])\n",
      "linear.weight torch.Size([5, 221])\n",
      "linear.bias torch.Size([5])\n"
     ]
    }
   ],
   "source": [
    "model = QnsClassifier(input_dim, output_dim, no_hidden)\n",
    "\n",
    "for name, param in model.named_parameters():\n",
    "    if param.requires_grad:\n",
    "        print(name, param.shape)"
   ]
  },
  {
   "cell_type": "markdown",
   "metadata": {},
   "source": [
    "**Q2d & Q2e)** "
   ]
  },
  {
   "cell_type": "code",
   "execution_count": 28,
   "metadata": {
    "scrolled": false
   },
   "outputs": [
    {
     "name": "stdout",
     "output_type": "stream",
     "text": [
      "\n",
      "Epoch 1/100\n",
      "Training Accuracy: 0.6736672051696284 | Training Loss: 1.2409739671214934\n",
      "Val Accuracy: 0.812 | Val Loss: 1.1065130233764648\n",
      "Test Accuracy: 0.814 | Test Loss: 1.0974669456481934\n",
      "\n",
      "Epoch 2/100\n",
      "Training Accuracy: 0.8556138933764136 | Training Loss: 1.060854919110575\n",
      "Val Accuracy: 0.838 | Val Loss: 1.0715059041976929\n",
      "Test Accuracy: 0.884 | Test Loss: 1.0322977304458618\n",
      "\n",
      "Epoch 3/100\n",
      "Training Accuracy: 0.8939822294022617 | Training Loss: 1.0206965358026565\n",
      "Val Accuracy: 0.85 | Val Loss: 1.0630159378051758\n",
      "Test Accuracy: 0.848 | Test Loss: 1.0544860363006592\n",
      "\n",
      "Epoch 4/100\n",
      "Training Accuracy: 0.9186187399030694 | Training Loss: 0.9964387739858319\n",
      "Val Accuracy: 0.854 | Val Loss: 1.0505754947662354\n",
      "Test Accuracy: 0.88 | Test Loss: 1.0260858535766602\n",
      "\n",
      "Epoch 5/100\n",
      "Training Accuracy: 0.9301292407108239 | Training Loss: 0.9821789107015056\n",
      "Val Accuracy: 0.856 | Val Loss: 1.0496762990951538\n",
      "Test Accuracy: 0.892 | Test Loss: 1.0228513479232788\n",
      "\n",
      "Epoch 6/100\n",
      "Training Accuracy: 0.9384087237479806 | Training Loss: 0.9732751996286454\n",
      "Val Accuracy: 0.868 | Val Loss: 1.0463874340057373\n",
      "Test Accuracy: 0.892 | Test Loss: 1.0190653800964355\n",
      "\n",
      "Epoch 7/100\n",
      "Training Accuracy: 0.9478998384491115 | Training Loss: 0.9640784844275444\n",
      "Val Accuracy: 0.852 | Val Loss: 1.0522032976150513\n",
      "Test Accuracy: 0.886 | Test Loss: 1.0203877687454224\n",
      "\n",
      "Epoch 8/100\n",
      "Training Accuracy: 0.9501211631663974 | Training Loss: 0.9594281631131326\n",
      "Val Accuracy: 0.868 | Val Loss: 1.0387200117111206\n",
      "Test Accuracy: 0.892 | Test Loss: 1.0159188508987427\n",
      "\n",
      "Epoch 9/100\n",
      "Training Accuracy: 0.9573909531502424 | Training Loss: 0.9511780238920643\n",
      "Val Accuracy: 0.874 | Val Loss: 1.0374387502670288\n",
      "Test Accuracy: 0.894 | Test Loss: 1.0158793926239014\n",
      "\n",
      "Epoch 10/100\n",
      "Training Accuracy: 0.9610258481421647 | Training Loss: 0.9478793874863656\n",
      "Val Accuracy: 0.856 | Val Loss: 1.0480659008026123\n",
      "Test Accuracy: 0.886 | Test Loss: 1.0228153467178345\n",
      "\n",
      "Epoch 11/100\n",
      "Training Accuracy: 0.965670436187399 | Training Loss: 0.9432236832957114\n",
      "Val Accuracy: 0.864 | Val Loss: 1.037244439125061\n",
      "Test Accuracy: 0.89 | Test Loss: 1.0168606042861938\n",
      "\n",
      "Epoch 12/100\n",
      "Training Accuracy: 0.9691033925686591 | Training Loss: 0.9395661415592317\n",
      "Val Accuracy: 0.878 | Val Loss: 1.0312124490737915\n",
      "Test Accuracy: 0.904 | Test Loss: 1.0036048889160156\n",
      "\n",
      "Epoch 13/100\n",
      "Training Accuracy: 0.9739499192245558 | Training Loss: 0.9339110466741747\n",
      "Val Accuracy: 0.884 | Val Loss: 1.0257093906402588\n",
      "Test Accuracy: 0.916 | Test Loss: 0.9931655526161194\n",
      "\n",
      "Epoch 14/100\n",
      "Training Accuracy: 0.9759693053311793 | Training Loss: 0.9311764570974534\n",
      "Val Accuracy: 0.884 | Val Loss: 1.0251436233520508\n",
      "Test Accuracy: 0.91 | Test Loss: 0.9998008012771606\n",
      "\n",
      "Epoch 15/100\n",
      "Training Accuracy: 0.9787964458804523 | Training Loss: 0.9289980911439465\n",
      "Val Accuracy: 0.874 | Val Loss: 1.0241914987564087\n",
      "Test Accuracy: 0.906 | Test Loss: 0.9991756081581116\n",
      "\n",
      "Epoch 16/100\n",
      "Training Accuracy: 0.97859450726979 | Training Loss: 0.9284598977335038\n",
      "Val Accuracy: 0.884 | Val Loss: 1.0234572887420654\n",
      "Test Accuracy: 0.914 | Test Loss: 0.9998930096626282\n",
      "\n",
      "Epoch 17/100\n",
      "Training Accuracy: 0.97859450726979 | Training Loss: 0.9283658969786859\n",
      "Val Accuracy: 0.868 | Val Loss: 1.0354459285736084\n",
      "Test Accuracy: 0.898 | Test Loss: 1.0034273862838745\n",
      "\n",
      "Epoch 18/100\n",
      "Training Accuracy: 0.9773828756058158 | Training Loss: 0.9310145470403856\n",
      "Val Accuracy: 0.864 | Val Loss: 1.0442644357681274\n",
      "Test Accuracy: 0.89 | Test Loss: 1.014546275138855\n",
      "Early stopping after 18 epochs. No improvement on the development set.\n",
      "Number of epochs used for training: 18\n",
      "Training time: 200.76 seconds\n"
     ]
    }
   ],
   "source": [
    "def train_on_test(model):\n",
    "    train_dataset = TensorDataset(X_train_embedded, y_train_embedded)\n",
    "    train_loader = DataLoader(train_dataset, batch_size=batch_size, shuffle=True)\n",
    "\n",
    "    criterion = nn.CrossEntropyLoss()\n",
    "    optimizer = torch.optim.Adam(model.parameters(), lr=learning_rate)\n",
    "\n",
    "    # Early stopping parameters\n",
    "    best_val_accuracy = 0\n",
    "    patience = 5\n",
    "    no_improvement = 0\n",
    "\n",
    "    training_losses = []\n",
    "    training_accuracies = []\n",
    "    val_losses = []\n",
    "    val_accuracies = []\n",
    "    test_losses = []\n",
    "    test_accuracies = []\n",
    "\n",
    "    start_time = time.time()\n",
    "    for epoch in range(num_epochs):\n",
    "        model.train()\n",
    "        total_train_loss = 0       \n",
    "        train_correct = 0\n",
    "        total_samples = 0\n",
    "\n",
    "        # Inside your training loop\n",
    "        for batch in train_loader:\n",
    "            optimizer.zero_grad()\n",
    "            text, labels = batch\n",
    "\n",
    "            train_predictions = model(text)\n",
    "            train_loss = criterion(train_predictions, labels)\n",
    "            train_loss.backward()\n",
    "            optimizer.step()\n",
    "            total_train_loss += train_loss.item()\n",
    "            \n",
    "            train_predicted_labels = torch.argmax(train_predictions, dim=1)\n",
    "            train_correct += (train_predicted_labels == labels).sum().item()\n",
    "            total_samples += len(labels)\n",
    "\n",
    "        training_loss = total_train_loss / len(train_loader)\n",
    "        training_losses.append(training_loss)\n",
    "        training_accuracy = train_correct / total_samples\n",
    "        training_accuracies.append(training_accuracy)\n",
    "\n",
    "        print(f'\\nEpoch {epoch + 1}/{num_epochs}')\n",
    "        print(f'Training Accuracy: {training_accuracy} | Training Loss: {training_loss}')\n",
    "\n",
    "        # Evaluate on development set\n",
    "        model.eval()\n",
    "        with torch.no_grad():\n",
    "            val_predictions = model(X_val_embedded)\n",
    "            \n",
    "            val_loss = criterion(val_predictions, y_val_embedded)\n",
    "            val_losses.append(val_loss.item())\n",
    "            \n",
    "            val_predicted_labels = torch.argmax(val_predictions, dim=1)\n",
    "            val_predicted_labels = val_predicted_labels.float()\n",
    "\n",
    "            val_correct = (val_predicted_labels == y_val_embedded).sum().item()\n",
    "            val_accuracy = val_correct / len(y_val_embedded)\n",
    "            val_accuracies.append(val_accuracy)\n",
    "\n",
    "        print(f'Val Accuracy: {val_accuracy} | Val Loss: {val_loss}')\n",
    "\n",
    "        # Evaluate on test data\n",
    "        with torch.no_grad():\n",
    "            test_predictions = model(X_test_embedded)\n",
    "            \n",
    "            test_loss = criterion(test_predictions, y_test_embedded)\n",
    "            test_losses.append(test_loss.item())\n",
    "            \n",
    "            test_predicted_labels = torch.argmax(test_predictions, dim=1)\n",
    "            test_predicted_labels = test_predicted_labels.float()\n",
    "\n",
    "            test_correct = (test_predicted_labels == y_test_embedded).sum().item()\n",
    "            test_accuracy = test_correct / len(y_test_embedded)\n",
    "            test_accuracies.append(test_accuracy)\n",
    "\n",
    "        print(f'Test Accuracy: {test_accuracy} | Test Loss: {test_loss}')\n",
    "\n",
    "        # Check for early stopping\n",
    "        if val_accuracy > best_val_accuracy:\n",
    "            best_val_accuracy = val_accuracy\n",
    "            no_improvement = 0\n",
    "        else:\n",
    "            no_improvement += 1\n",
    "\n",
    "        if no_improvement >= patience:\n",
    "            end_time = time.time()\n",
    "            training_time = end_time - start_time\n",
    "            print(f\"Early stopping after {epoch + 1} epochs. No improvement on the development set.\")\n",
    "            print(f\"Number of epochs used for training: {epoch + 1}\")\n",
    "            print(f\"Training time: {training_time:.2f} seconds\")\n",
    "            break\n",
    "            \n",
    "    return training_accuracies, val_accuracies, test_accuracies, training_losses, val_losses, test_losses\n",
    "\n",
    "training_accuracies, val_accuracies, test_accuracies, training_losses, val_losses, test_losses = train_on_test(model)"
   ]
  },
  {
   "cell_type": "code",
   "execution_count": 30,
   "metadata": {},
   "outputs": [
    {
     "data": {
      "text/plain": [
       "([0.6736672051696284,\n",
       "  0.8556138933764136,\n",
       "  0.8939822294022617,\n",
       "  0.9186187399030694,\n",
       "  0.9301292407108239,\n",
       "  0.9384087237479806,\n",
       "  0.9478998384491115,\n",
       "  0.9501211631663974,\n",
       "  0.9573909531502424,\n",
       "  0.9610258481421647,\n",
       "  0.965670436187399,\n",
       "  0.9691033925686591,\n",
       "  0.9739499192245558,\n",
       "  0.9759693053311793,\n",
       "  0.9787964458804523,\n",
       "  0.97859450726979,\n",
       "  0.97859450726979,\n",
       "  0.9773828756058158],\n",
       " [0.812,\n",
       "  0.838,\n",
       "  0.85,\n",
       "  0.854,\n",
       "  0.856,\n",
       "  0.868,\n",
       "  0.852,\n",
       "  0.868,\n",
       "  0.874,\n",
       "  0.856,\n",
       "  0.864,\n",
       "  0.878,\n",
       "  0.884,\n",
       "  0.884,\n",
       "  0.874,\n",
       "  0.884,\n",
       "  0.868,\n",
       "  0.864],\n",
       " [0.814,\n",
       "  0.884,\n",
       "  0.848,\n",
       "  0.88,\n",
       "  0.892,\n",
       "  0.892,\n",
       "  0.886,\n",
       "  0.892,\n",
       "  0.894,\n",
       "  0.886,\n",
       "  0.89,\n",
       "  0.904,\n",
       "  0.916,\n",
       "  0.91,\n",
       "  0.906,\n",
       "  0.914,\n",
       "  0.898,\n",
       "  0.89],\n",
       " [1.2409739671214934,\n",
       "  1.060854919110575,\n",
       "  1.0206965358026565,\n",
       "  0.9964387739858319,\n",
       "  0.9821789107015056,\n",
       "  0.9732751996286454,\n",
       "  0.9640784844275444,\n",
       "  0.9594281631131326,\n",
       "  0.9511780238920643,\n",
       "  0.9478793874863656,\n",
       "  0.9432236832957114,\n",
       "  0.9395661415592317,\n",
       "  0.9339110466741747,\n",
       "  0.9311764570974534,\n",
       "  0.9289980911439465,\n",
       "  0.9284598977335038,\n",
       "  0.9283658969786859,\n",
       "  0.9310145470403856],\n",
       " [1.1065130233764648,\n",
       "  1.0715059041976929,\n",
       "  1.0630159378051758,\n",
       "  1.0505754947662354,\n",
       "  1.0496762990951538,\n",
       "  1.0463874340057373,\n",
       "  1.0522032976150513,\n",
       "  1.0387200117111206,\n",
       "  1.0374387502670288,\n",
       "  1.0480659008026123,\n",
       "  1.037244439125061,\n",
       "  1.0312124490737915,\n",
       "  1.0257093906402588,\n",
       "  1.0251436233520508,\n",
       "  1.0241914987564087,\n",
       "  1.0234572887420654,\n",
       "  1.0354459285736084,\n",
       "  1.0442644357681274],\n",
       " [1.0974669456481934,\n",
       "  1.0322977304458618,\n",
       "  1.0544860363006592,\n",
       "  1.0260858535766602,\n",
       "  1.0228513479232788,\n",
       "  1.0190653800964355,\n",
       "  1.0203877687454224,\n",
       "  1.0159188508987427,\n",
       "  1.0158793926239014,\n",
       "  1.0228153467178345,\n",
       "  1.0168606042861938,\n",
       "  1.0036048889160156,\n",
       "  0.9931655526161194,\n",
       "  0.9998008012771606,\n",
       "  0.9991756081581116,\n",
       "  0.9998930096626282,\n",
       "  1.0034273862838745,\n",
       "  1.014546275138855])"
      ]
     },
     "execution_count": 30,
     "metadata": {},
     "output_type": "execute_result"
    }
   ],
   "source": [
    "training_accuracies, val_accuracies, test_accuracies, training_losses, val_losses, test_losses"
   ]
  },
  {
   "cell_type": "code",
   "execution_count": 32,
   "metadata": {},
   "outputs": [
    {
     "data": {
      "image/png": "[encoded data removed]",
      "text/plain": [
       "<Figure size 1200x400 with 2 Axes>"
      ]
     },
     "metadata": {},
     "output_type": "display_data"
    }
   ],
   "source": [
    "plt.figure(figsize=(12, 4))\n",
    "\n",
    "plt.subplot(1, 3, 1)\n",
    "plt.plot(list(range(1, len(training_losses) + 1)), training_losses, label='Training Loss')\n",
    "plt.plot(list(range(1, len(val_losses) + 1)), val_losses, label='Validation Loss')\n",
    "plt.plot(list(range(1, len(test_losses) + 1)), test_losses, label='Test Loss')\n",
    "plt.xlabel('Epochs')\n",
    "plt.ylabel('Loss')\n",
    "plt.legend()\n",
    "\n",
    "plt.subplot(1, 3, 2)\n",
    "plt.plot(list(range(1, len(training_accuracies) + 1)), training_accuracies, label='Training Accuracy')\n",
    "plt.plot(list(range(1, len(val_accuracies) + 1)), val_accuracies, label='Validation Accuracy')\n",
    "plt.plot(list(range(1, len(test_accuracies) + 1)), test_accuracies, label='Test Accuracy')\n",
    "plt.xlabel('Epochs')\n",
    "plt.ylabel('Accuracy')\n",
    "plt.legend()\n",
    "\n",
    "plt.show()"
   ]
  },
  {
   "cell_type": "markdown",
   "metadata": {},
   "source": [
    "### Appendix"
   ]
  },
  {
   "cell_type": "markdown",
   "metadata": {},
   "source": [
    "Model not chosen: Linear"
   ]
  },
  {
   "cell_type": "code",
   "execution_count": 34,
   "metadata": {
    "scrolled": false
   },
   "outputs": [
    {
     "name": "stdout",
     "output_type": "stream",
     "text": [
      "\n",
      "Epoch 1/100\n",
      "Training Accuracy: 0.5197899838449112 | Training Loss: 1.3866646451334799\n",
      "Val Accuracy: 0.572 | Val Loss: 1.3269073963165283\n",
      "Test Accuracy: 0.496 | Test Loss: 1.367289662361145\n",
      "\n",
      "Epoch 2/100\n",
      "Training Accuracy: 0.6015751211631664 | Training Loss: 1.3025348624875468\n",
      "Val Accuracy: 0.596 | Val Loss: 1.300195336341858\n",
      "Test Accuracy: 0.514 | Test Loss: 1.3495618104934692\n",
      "\n",
      "Epoch 3/100\n",
      "Training Accuracy: 0.6775040387722132 | Training Loss: 1.2391547579919138\n",
      "Val Accuracy: 0.674 | Val Loss: 1.2357313632965088\n",
      "Test Accuracy: 0.65 | Test Loss: 1.2461720705032349\n",
      "\n",
      "Epoch 4/100\n",
      "Training Accuracy: 0.7114297253634895 | Training Loss: 1.2038506761673957\n",
      "Val Accuracy: 0.684 | Val Loss: 1.2235456705093384\n",
      "Test Accuracy: 0.636 | Test Loss: 1.2558742761611938\n",
      "\n",
      "Epoch 5/100\n",
      "Training Accuracy: 0.7271809369951535 | Training Loss: 1.188607665031187\n",
      "Val Accuracy: 0.692 | Val Loss: 1.2163441181182861\n",
      "Test Accuracy: 0.68 | Test Loss: 1.2233846187591553\n",
      "\n",
      "Epoch 6/100\n",
      "Training Accuracy: 0.744951534733441 | Training Loss: 1.1742791183533208\n",
      "Val Accuracy: 0.702 | Val Loss: 1.211258888244629\n",
      "Test Accuracy: 0.658 | Test Loss: 1.2452776432037354\n",
      "\n",
      "Epoch 7/100\n",
      "Training Accuracy: 0.7542407108239095 | Training Loss: 1.1662280959467735\n",
      "Val Accuracy: 0.7 | Val Loss: 1.2045918703079224\n",
      "Test Accuracy: 0.692 | Test Loss: 1.206634283065796\n",
      "\n",
      "Epoch 8/100\n",
      "Training Accuracy: 0.7627221324717286 | Training Loss: 1.1569613495180684\n",
      "Val Accuracy: 0.71 | Val Loss: 1.2001806497573853\n",
      "Test Accuracy: 0.68 | Test Loss: 1.2192922830581665\n",
      "\n",
      "Epoch 9/100\n",
      "Training Accuracy: 0.7655492730210016 | Training Loss: 1.1522694376207168\n",
      "Val Accuracy: 0.71 | Val Loss: 1.198203444480896\n",
      "Test Accuracy: 0.686 | Test Loss: 1.2141265869140625\n",
      "\n",
      "Epoch 10/100\n",
      "Training Accuracy: 0.7726171243941842 | Training Loss: 1.1460729748972\n",
      "Val Accuracy: 0.712 | Val Loss: 1.1971358060836792\n",
      "Test Accuracy: 0.688 | Test Loss: 1.2108640670776367\n",
      "\n",
      "Epoch 11/100\n",
      "Training Accuracy: 0.7766558966074314 | Training Loss: 1.141353811371711\n",
      "Val Accuracy: 0.72 | Val Loss: 1.1949971914291382\n",
      "Test Accuracy: 0.704 | Test Loss: 1.1939756870269775\n",
      "\n",
      "Epoch 12/100\n",
      "Training Accuracy: 0.7837237479806138 | Training Loss: 1.1358365754927358\n",
      "Val Accuracy: 0.722 | Val Loss: 1.185603141784668\n",
      "Test Accuracy: 0.71 | Test Loss: 1.1903349161148071\n",
      "\n",
      "Epoch 13/100\n",
      "Training Accuracy: 0.7853392568659128 | Training Loss: 1.1316808746707054\n",
      "Val Accuracy: 0.722 | Val Loss: 1.1815063953399658\n",
      "Test Accuracy: 0.71 | Test Loss: 1.1838051080703735\n",
      "\n",
      "Epoch 14/100\n",
      "Training Accuracy: 0.7901857835218093 | Training Loss: 1.1270614120268052\n",
      "Val Accuracy: 0.726 | Val Loss: 1.1788495779037476\n",
      "Test Accuracy: 0.734 | Test Loss: 1.1691217422485352\n",
      "\n",
      "Epoch 15/100\n",
      "Training Accuracy: 0.7946284329563813 | Training Loss: 1.1234027924076204\n",
      "Val Accuracy: 0.734 | Val Loss: 1.1763802766799927\n",
      "Test Accuracy: 0.712 | Test Loss: 1.1865683794021606\n",
      "\n",
      "Epoch 16/100\n",
      "Training Accuracy: 0.7976575121163166 | Training Loss: 1.1202152698270735\n",
      "Val Accuracy: 0.734 | Val Loss: 1.1752184629440308\n",
      "Test Accuracy: 0.704 | Test Loss: 1.1818538904190063\n",
      "\n",
      "Epoch 17/100\n",
      "Training Accuracy: 0.8031098546042004 | Training Loss: 1.1135345501284446\n",
      "Val Accuracy: 0.738 | Val Loss: 1.1658339500427246\n",
      "Test Accuracy: 0.762 | Test Loss: 1.1445295810699463\n",
      "\n",
      "Epoch 18/100\n",
      "Training Accuracy: 0.8117932148626817 | Training Loss: 1.1069999310278122\n",
      "Val Accuracy: 0.734 | Val Loss: 1.1618974208831787\n",
      "Test Accuracy: 0.786 | Test Loss: 1.12562096118927\n",
      "\n",
      "Epoch 19/100\n",
      "Training Accuracy: 0.815831987075929 | Training Loss: 1.099068565907017\n",
      "Val Accuracy: 0.748 | Val Loss: 1.1566162109375\n",
      "Test Accuracy: 0.79 | Test Loss: 1.1170341968536377\n",
      "\n",
      "Epoch 20/100\n",
      "Training Accuracy: 0.8235056542810986 | Training Loss: 1.0934223855695417\n",
      "Val Accuracy: 0.752 | Val Loss: 1.1529860496520996\n",
      "Test Accuracy: 0.81 | Test Loss: 1.1065961122512817\n",
      "\n",
      "Epoch 21/100\n",
      "Training Accuracy: 0.8305735056542811 | Training Loss: 1.089826544254057\n",
      "Val Accuracy: 0.756 | Val Loss: 1.1469535827636719\n",
      "Test Accuracy: 0.812 | Test Loss: 1.1017223596572876\n",
      "\n",
      "Epoch 22/100\n",
      "Training Accuracy: 0.8321890145395799 | Training Loss: 1.0868764185136364\n",
      "Val Accuracy: 0.758 | Val Loss: 1.1513681411743164\n",
      "Test Accuracy: 0.828 | Test Loss: 1.0937604904174805\n",
      "\n",
      "Epoch 23/100\n",
      "Training Accuracy: 0.8313812600969306 | Training Loss: 1.0850346730601403\n",
      "Val Accuracy: 0.754 | Val Loss: 1.1495232582092285\n",
      "Test Accuracy: 0.808 | Test Loss: 1.0947731733322144\n",
      "\n",
      "Epoch 24/100\n",
      "Training Accuracy: 0.8362277867528272 | Training Loss: 1.082249721788591\n",
      "Val Accuracy: 0.754 | Val Loss: 1.151187539100647\n",
      "Test Accuracy: 0.812 | Test Loss: 1.0924910306930542\n",
      "\n",
      "Epoch 25/100\n",
      "Training Accuracy: 0.8364297253634895 | Training Loss: 1.0805317713368323\n",
      "Val Accuracy: 0.748 | Val Loss: 1.150170087814331\n",
      "Test Accuracy: 0.822 | Test Loss: 1.092722773551941\n",
      "\n",
      "Epoch 26/100\n",
      "Training Accuracy: 0.8380452342487884 | Training Loss: 1.0789343437840861\n",
      "Val Accuracy: 0.746 | Val Loss: 1.1494272947311401\n",
      "Test Accuracy: 0.828 | Test Loss: 1.0874836444854736\n",
      "\n",
      "Epoch 27/100\n",
      "Training Accuracy: 0.8418820678513732 | Training Loss: 1.0774819743248725\n",
      "Val Accuracy: 0.742 | Val Loss: 1.1536140441894531\n",
      "Test Accuracy: 0.834 | Test Loss: 1.084571361541748\n",
      "Early stopping after 27 epochs. No improvement on the development set.\n",
      "Number of epochs used for training: 27\n",
      "Training time: 17.91 seconds\n"
     ]
    }
   ],
   "source": [
    "class LinearClassifier(nn.Module):\n",
    "    def __init__(self, input_dim, output_dim):\n",
    "        super(LinearClassifier, self).__init__()\n",
    "        self.linear = nn.Linear(input_dim, output_dim)\n",
    "        self.softmax = nn.Softmax(dim=1)\n",
    "\n",
    "    def forward(self, x):\n",
    "        linear_out = self.linear(x)\n",
    "        sentence_representation, _ = torch.max(linear_out, dim=1)\n",
    "        output = self.softmax(sentence_representation)\n",
    "        return output\n",
    "\n",
    "model = LinearClassifier(input_dim, output_dim)\n",
    "    \n",
    "training_accuracies, val_accuracies, test_accuracies, training_losses, val_losses, test_losses = train_on_test(model)"
   ]
  },
  {
   "cell_type": "code",
   "execution_count": 35,
   "metadata": {},
   "outputs": [
    {
     "data": {
      "image/png": "[encoded data removed]",
      "text/plain": [
       "<Figure size 1200x400 with 2 Axes>"
      ]
     },
     "metadata": {},
     "output_type": "display_data"
    }
   ],
   "source": [
    "plt.figure(figsize=(12, 4))\n",
    "\n",
    "plt.subplot(1, 3, 1)\n",
    "plt.plot(list(range(1, len(training_losses) + 1)), training_losses, label='Training Loss')\n",
    "plt.plot(list(range(1, len(val_losses) + 1)), val_losses, label='Validation Loss')\n",
    "plt.plot(list(range(1, len(test_losses) + 1)), test_losses, label='Test Loss')\n",
    "plt.xlabel('Epochs')\n",
    "plt.ylabel('Loss')\n",
    "plt.legend()\n",
    "\n",
    "plt.subplot(1, 3, 2)\n",
    "plt.plot(list(range(1, len(training_accuracies) + 1)), training_accuracies, label='Training Accuracy')\n",
    "plt.plot(list(range(1, len(val_accuracies) + 1)), val_accuracies, label='Validation Accuracy')\n",
    "plt.plot(list(range(1, len(test_accuracies) + 1)), test_accuracies, label='Test Accuracy')\n",
    "plt.xlabel('Epochs')\n",
    "plt.ylabel('Accuracy')\n",
    "plt.legend()\n",
    "\n",
    "plt.show()"
   ]
  }
 ],
 "metadata": {
  "kernelspec": {
   "display_name": "Python 3 (ipykernel)",
   "language": "python",
   "name": "python3"
  },
  "language_info": {
   "codemirror_mode": {
    "name": "ipython",
    "version": 3
   },
   "file_extension": ".py",
   "mimetype": "text/x-python",
   "name": "python",
   "nbconvert_exporter": "python",
   "pygments_lexer": "ipython3",
   "version": "3.10.9"
  }
 },
 "nbformat": 4,
 "nbformat_minor": 2
}
